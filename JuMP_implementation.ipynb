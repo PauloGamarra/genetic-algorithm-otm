{
 "cells": [
  {
   "cell_type": "markdown",
   "id": "42451df7",
   "metadata": {},
   "source": [
    "# Importing packages"
   ]
  },
  {
   "cell_type": "code",
   "execution_count": 1,
   "id": "36ce93a9",
   "metadata": {},
   "outputs": [],
   "source": [
    "using JuMP\n",
    "using GLPK\n",
    "using Formatting\n",
    "using GLPKMathProgInterface"
   ]
  },
  {
   "cell_type": "markdown",
   "id": "089df47f",
   "metadata": {},
   "source": [
    "# Reading problem instance and defining Constants"
   ]
  },
  {
   "cell_type": "code",
   "execution_count": 2,
   "id": "574f576c",
   "metadata": {},
   "outputs": [],
   "source": [
    "instance_file = \"Problema2/smt_7_6.dat\"\n",
    "time_limit = 60 * 30; # seconds"
   ]
  },
  {
   "cell_type": "code",
   "execution_count": 4,
   "id": "9575c058",
   "metadata": {},
   "outputs": [
    {
     "name": "stdout",
     "output_type": "stream",
     "text": [
      "number of vertices (n): 7\n",
      "number of edges (m): 6\n",
      "initial vertice (s): 1\n",
      "final vertice (t): 6\n",
      "\n",
      "vertices (V): [1, 2, 3, 4, 5, 6, 7]\n",
      "intermidiate vertices (V_st): [2, 3, 4, 5, 7]\n",
      "\n",
      "Edges and weights: \n",
      "{7, 2} = 75\n",
      "{4, 1} = 13\n",
      "{4, 3} = 48\n",
      "{6, 2} = 10\n",
      "{5, 1} = 93\n",
      "{7, 4} = 59\n"
     ]
    }
   ],
   "source": [
    "f = open(instance_file, \"r\")         \n",
    " \n",
    "lines = readlines(f)\n",
    " \n",
    "close(f)\n",
    "\n",
    "n, m, s, t = [parse(Int, num_char) for num_char in split(lines[1])]\n",
    "print(\"number of vertices (n): $n\\n\")\n",
    "print(\"number of edges (m): $m\\n\")\n",
    "print(\"initial vertice (s): $s\\n\")\n",
    "print(\"final vertice (t): $t\\n\")\n",
    "\n",
    "V = Array(1:n)\n",
    "V_st = copy(V)\n",
    "deleteat!(V_st, V_st .== s)\n",
    "deleteat!(V_st, V_st .== t)\n",
    "print(\"\\nvertices (V): $V\\n\")\n",
    "print(\"intermidiate vertices (V_st): $V_st\\n\")\n",
    "\n",
    "D = zeros(Int64, (n, n))\n",
    "G = zeros(Int64, (n, n))\n",
    "P = zeros(Int64, (n, n, n))\n",
    "\n",
    "print(\"\\nEdges and weights: \\n\")\n",
    "for i in 2:m+1\n",
    "    u, v, d = [parse(Int, num_char) for num_char in split(lines[i])]\n",
    "    print(\"{$u, $v} = $d\\n\")\n",
    "    D[u, v] = d\n",
    "    D[v, u] = d\n",
    "    G[u, v] = 1\n",
    "    G[v, u] = 1\n",
    "end\n",
    "\n",
    "for i in 1:n\n",
    "    for j in 1:n\n",
    "        for k in 1:n\n",
    "            P[i,j,k] = abs(D[i,j] - D[j,k])\n",
    "        end\n",
    "    end\n",
    "end\n",
    "\n",
    "M = maximum(P);"
   ]
  },
  {
   "cell_type": "markdown",
   "id": "79b9347b",
   "metadata": {},
   "source": [
    "# Defining Model"
   ]
  },
  {
   "cell_type": "code",
   "execution_count": 9,
   "id": "55a9221f",
   "metadata": {},
   "outputs": [],
   "source": [
    "model = Model(GLPK.Optimizer)\n",
    "\n",
    "set_time_limit_sec(model, time_limit);\n",
    "\n",
    "@variable(model, C[1:n, 1:n], Bin)\n",
    "@variable(model, Q[1:n, 1:n, 1:n], Bin)\n",
    "@variable(model, p >= 0, Int)\n",
    "\n",
    "@objective(model, Min, p)\n",
    "\n",
    "# Restrições para gerar um caminho C subgrafo de G\n",
    "@constraint(model, sum(C[j,s] for j = 1:n) == 0)\n",
    "@constraint(model, sum(C[s,j] for j = 1:n) == 1)\n",
    "@constraint(model, sum(C[j,t] for j = 1:n) == 1)\n",
    "@constraint(model, sum(C[t,j] for j = 1:n) == 0)\n",
    "@constraint(model, [i in V_st], sum(C[j,i] for j = 1:n) <= 1)\n",
    "@constraint(model, [i in V_st], sum(C[j,i] for j = 1:n) - sum(C[i,j] for j = 1:n) == 0)\n",
    "@constraint(model, [i = 1:n, j=1:n], C[i,j] - G[i,j] <= 0)\n",
    "\n",
    "# Restrições para que  Q_{ijk} = C_{ij} ^ C_{jk}\n",
    "@constraint(model, [i = 1:n, j=1:n, k=1:n], Q[i,j,k] <= (C[i,j] + C[j,k])/2)\n",
    "@constraint(model, [i = 1:n, j=1:n, k=1:n], Q[i,j,k] >= C[i,j] + C[j,k] - 1)\n",
    "\n",
    "# Restrições para que p seja o passo máximo do caminho selecionado\n",
    "@constraint(model, [i = 1:n, j=1:n, k=1:n], p >= P[i,j,k] + (-M * (1 - Q[i,j,k])));"
   ]
  },
  {
   "cell_type": "markdown",
   "id": "ffee9d07",
   "metadata": {},
   "source": [
    "# Optimizing"
   ]
  },
  {
   "cell_type": "code",
   "execution_count": 10,
   "id": "8828fe24",
   "metadata": {
    "scrolled": true
   },
   "outputs": [
    {
     "name": "stdout",
     "output_type": "stream",
     "text": [
      "65.0"
     ]
    }
   ],
   "source": [
    "optimize!(model)\n",
    "print(objective_value(model))"
   ]
  }
 ],
 "metadata": {
  "kernelspec": {
   "display_name": "Julia 1.6.2",
   "language": "julia",
   "name": "julia-1.6"
  },
  "language_info": {
   "file_extension": ".jl",
   "mimetype": "application/julia",
   "name": "julia",
   "version": "1.6.2"
  }
 },
 "nbformat": 4,
 "nbformat_minor": 5
}
