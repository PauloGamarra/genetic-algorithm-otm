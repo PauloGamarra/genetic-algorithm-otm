{
 "cells": [
  {
   "cell_type": "markdown",
   "id": "42451df7",
   "metadata": {},
   "source": [
    "# Importing packages"
   ]
  },
  {
   "cell_type": "code",
   "execution_count": 1,
   "id": "36ce93a9",
   "metadata": {},
   "outputs": [],
   "source": [
    "using JuMP\n",
    "using SCIP\n",
    "using Formatting\n",
    "using GLPKMathProgInterface"
   ]
  },
  {
   "cell_type": "markdown",
   "id": "089df47f",
   "metadata": {},
   "source": [
    "# Defining experiment parameters"
   ]
  },
  {
   "cell_type": "code",
   "execution_count": 2,
   "id": "574f576c",
   "metadata": {},
   "outputs": [],
   "source": [
    "instances_dir = \"Problema2\"\n",
    "time_limit = 60 * 60; # seconds"
   ]
  },
  {
   "cell_type": "markdown",
   "id": "70cfcf04",
   "metadata": {},
   "source": [
    "# Running Experiment"
   ]
  },
  {
   "cell_type": "code",
   "execution_count": null,
   "id": "d9fc8e23",
   "metadata": {},
   "outputs": [],
   "source": [
    "# instance_files = readdir(instances_dir)\n",
    "instance_files = [\"smt_7_10.dat\", \"smt_7_15.dat\", \"smt_7_6.dat\"]\n",
    "\n",
    "for instance_file in instance_files\n",
    "\n",
    "    print(\"Running $instance_file\\n\")\n",
    "    \n",
    "    instance_file_path = joinpath.(instances_dir, instance_file)\n",
    "\n",
    "    f = open(instance_file_path, \"r\")         \n",
    "\n",
    "    lines = readlines(f)\n",
    "\n",
    "    close(f)\n",
    "\n",
    "    n, m, s, t = [parse(Int, num_char) for num_char in split(lines[1])]\n",
    "\n",
    "    V = Array(1:n)\n",
    "    V_st = copy(V)\n",
    "    deleteat!(V_st, V_st .== s)\n",
    "    deleteat!(V_st, V_st .== t)\n",
    "\n",
    "    D = zeros(Int64, (n, n))\n",
    "    G = zeros(Int64, (n, n))\n",
    "    P = zeros(Int64, (n, n, n))\n",
    "\n",
    "    for i in 2:m+1\n",
    "        u, v, d = [parse(Int, num_char) for num_char in split(lines[i])]\n",
    "        D[u, v] = d\n",
    "        D[v, u] = d\n",
    "        G[u, v] = 1\n",
    "        G[v, u] = 1\n",
    "    end\n",
    "\n",
    "    for i in 1:n\n",
    "        for j in 1:n\n",
    "            for k in 1:n\n",
    "                P[i,j,k] = abs(D[i,j] - D[j,k])\n",
    "            end\n",
    "        end\n",
    "    end\n",
    "\n",
    "    M = maximum(P);\n",
    "\n",
    "    # Defining Model\n",
    "\n",
    "    model = Model(SCIP.Optimizer)\n",
    "\n",
    "    set_time_limit_sec(model, time_limit);\n",
    "\n",
    "    @variable(model, C[1:n, 1:n], Bin)\n",
    "    @variable(model, Q[1:n, 1:n, 1:n], Bin)\n",
    "    @variable(model, p >= 0, Int)\n",
    "\n",
    "    @objective(model, Min, p)\n",
    "\n",
    "    # Restrições para gerar um caminho C subgrafo de G\n",
    "    @constraint(model, sum(C[j,s] for j = 1:n) == 0)\n",
    "    @constraint(model, sum(C[s,j] for j = 1:n) == 1)\n",
    "    @constraint(model, sum(C[j,t] for j = 1:n) == 1)\n",
    "    @constraint(model, sum(C[t,j] for j = 1:n) == 0)\n",
    "    @constraint(model, [i in V_st], sum(C[j,i] for j = 1:n) <= 1)\n",
    "    @constraint(model, [i in V_st], sum(C[j,i] for j = 1:n) - sum(C[i,j] for j = 1:n) == 0)\n",
    "    @constraint(model, [i = 1:n, j=1:n], C[i,j] - G[i,j] <= 0)\n",
    "\n",
    "    # Restrições para que  Q_{ijk} = C_{ij} ^ C_{jk}\n",
    "    @constraint(model, [i = 1:n, j=1:n, k=1:n], Q[i,j,k] <= (C[i,j] + C[j,k])/2)\n",
    "    @constraint(model, [i = 1:n, j=1:n, k=1:n], Q[i,j,k] >= C[i,j] + C[j,k] - 1)\n",
    "\n",
    "    # Restrições para que p seja o passo máximo do caminho selecionado\n",
    "    @constraint(model, [i = 1:n, j=1:n, k=1:n], p >= P[i,j,k] + (-M * (1 - Q[i,j,k])));\n",
    "\n",
    "    # Optimizing\n",
    "\n",
    "    x = @timed optimize!(model)\n",
    "\n",
    "\n",
    "    optimization_time = x[2]\n",
    "    objective_value = objective_value(model)\n",
    "    proved_optimality = termination_status(model) == MOI.OPTIMAL\n",
    "    timeout = termination_status(model) == MOI.TIME_LIMIT\n",
    "\n",
    "    print(\"Results:\\n\")\n",
    "    print(\"optimization_time: $optimization_time\\n\")\n",
    "    print(\"objective_value: $objective_value\\n\")\n",
    "    print(\"proved_optimality: $proved_optimality\\n\")\n",
    "    print(\"timeout: $timeout\\n\")\n",
    "\n",
    "end"
   ]
  }
 ],
 "metadata": {
  "kernelspec": {
   "display_name": "Julia 1.6.2",
   "language": "julia",
   "name": "julia-1.6"
  },
  "language_info": {
   "file_extension": ".jl",
   "mimetype": "application/julia",
   "name": "julia",
   "version": "1.6.2"
  }
 },
 "nbformat": 4,
 "nbformat_minor": 5
}
